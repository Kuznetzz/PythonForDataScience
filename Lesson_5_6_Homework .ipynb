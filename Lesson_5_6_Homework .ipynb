{
 "cells": [
  {
   "cell_type": "markdown",
   "metadata": {
    "heading_collapsed": true
   },
   "source": [
    "# Homework Lessons 5 - 6"
   ]
  },
  {
   "cell_type": "code",
   "execution_count": 136,
   "metadata": {
    "hidden": true
   },
   "outputs": [],
   "source": [
    "import pandas as pd\n",
    "import numpy as np \n",
    "import scipy\n",
    "\n",
    "import itertools\n",
    "\n",
    "import matplotlib.pyplot as plt\n",
    "%matplotlib inline\n",
    "\n",
    "import warnings\n",
    "warnings.filterwarnings('ignore')"
   ]
  },
  {
   "cell_type": "markdown",
   "metadata": {},
   "source": [
    "# Урок 5"
   ]
  },
  {
   "cell_type": "markdown",
   "metadata": {
    "heading_collapsed": true
   },
   "source": [
    "#####  1 . Вектор – это частный случай матрицы 1хN и Nх1. Повторите материал для векторов, уделяя особое внимание умножению A∙B. Вычислите, по возможности не используя программирование: (5Е) **(– 1), где Е – единичная матрица размера 5х5.\n"
   ]
  },
  {
   "cell_type": "code",
   "execution_count": 137,
   "metadata": {
    "hidden": true
   },
   "outputs": [
    {
     "data": {
      "text/plain": [
       "(array([[2, 5, 8]]), array([[ 1,  9, -4]]))"
      ]
     },
     "execution_count": 137,
     "metadata": {},
     "output_type": "execute_result"
    }
   ],
   "source": [
    "A, B  = np.array([[2, 5, 8]]), np.array([[1, 9, -4]])\n",
    "A , B "
   ]
  },
  {
   "cell_type": "code",
   "execution_count": 138,
   "metadata": {
    "hidden": true
   },
   "outputs": [
    {
     "data": {
      "text/plain": [
       "array([[  2,  45, -32]])"
      ]
     },
     "execution_count": 138,
     "metadata": {},
     "output_type": "execute_result"
    }
   ],
   "source": [
    "A * B"
   ]
  },
  {
   "cell_type": "code",
   "execution_count": 139,
   "metadata": {
    "hidden": true
   },
   "outputs": [
    {
     "data": {
      "text/plain": [
       "array([[  2,   5,   8],\n",
       "       [ 18,  45,  72],\n",
       "       [ -8, -20, -32]])"
      ]
     },
     "execution_count": 139,
     "metadata": {},
     "output_type": "execute_result"
    }
   ],
   "source": [
    "A * B.T"
   ]
  },
  {
   "cell_type": "code",
   "execution_count": 140,
   "metadata": {
    "hidden": true
   },
   "outputs": [
    {
     "data": {
      "text/plain": [
       "array([[  2,  18,  -8],\n",
       "       [  5,  45, -20],\n",
       "       [  8,  72, -32]])"
      ]
     },
     "execution_count": 140,
     "metadata": {},
     "output_type": "execute_result"
    }
   ],
   "source": [
    "A.T * B"
   ]
  },
  {
   "cell_type": "code",
   "execution_count": 141,
   "metadata": {
    "hidden": true
   },
   "outputs": [
    {
     "data": {
      "text/plain": [
       "array([[  2],\n",
       "       [ 45],\n",
       "       [-32]])"
      ]
     },
     "execution_count": 141,
     "metadata": {},
     "output_type": "execute_result"
    }
   ],
   "source": [
    "A.T * B.T"
   ]
  },
  {
   "cell_type": "code",
   "execution_count": 142,
   "metadata": {
    "hidden": true
   },
   "outputs": [
    {
     "data": {
      "text/plain": [
       "array([[1., 0., 0., 0., 0.],\n",
       "       [0., 1., 0., 0., 0.],\n",
       "       [0., 0., 1., 0., 0.],\n",
       "       [0., 0., 0., 1., 0.],\n",
       "       [0., 0., 0., 0., 1.]])"
      ]
     },
     "execution_count": 142,
     "metadata": {},
     "output_type": "execute_result"
    }
   ],
   "source": [
    "E = np.identity(5)\n",
    "E"
   ]
  },
  {
   "cell_type": "code",
   "execution_count": 176,
   "metadata": {
    "hidden": true
   },
   "outputs": [
    {
     "data": {
      "text/plain": [
       "array([[5., 0., 0., 0., 0.],\n",
       "       [0., 5., 0., 0., 0.],\n",
       "       [0., 0., 5., 0., 0.],\n",
       "       [0., 0., 0., 5., 0.],\n",
       "       [0., 0., 0., 0., 5.]])"
      ]
     },
     "execution_count": 176,
     "metadata": {},
     "output_type": "execute_result"
    }
   ],
   "source": [
    "(5 * E) "
   ]
  },
  {
   "cell_type": "code",
   "execution_count": 177,
   "metadata": {
    "hidden": true
   },
   "outputs": [
    {
     "data": {
      "text/plain": [
       "array([[0.2, 0. , 0. , 0. , 0. ],\n",
       "       [0. , 0.2, 0. , 0. , 0. ],\n",
       "       [0. , 0. , 0.2, 0. , 0. ],\n",
       "       [0. , 0. , 0. , 0.2, 0. ],\n",
       "       [0. , 0. , 0. , 0. , 0.2]])"
      ]
     },
     "execution_count": 177,
     "metadata": {},
     "output_type": "execute_result"
    }
   ],
   "source": [
    "np.linalg.inv(5*E)"
   ]
  },
  {
   "cell_type": "markdown",
   "metadata": {
    "heading_collapsed": true
   },
   "source": [
    "##### 2. Вычислите определитель:"
   ]
  },
  {
   "cell_type": "markdown",
   "metadata": {
    "hidden": true
   },
   "source": [
    "$\n",
    "\\begin{align}\n",
    "\\begin{vmatrix}\n",
    "1 & 2 & 3 \\\\\n",
    "4 & 0 & 6 \\\\\n",
    "7 & 8 & 9 \n",
    "\\end{vmatrix}\n",
    "\\end{align}\n",
    "$"
   ]
  },
  {
   "cell_type": "code",
   "execution_count": 144,
   "metadata": {
    "hidden": true,
    "scrolled": true
   },
   "outputs": [
    {
     "data": {
      "text/plain": [
       "array([[1, 2, 3],\n",
       "       [4, 0, 6],\n",
       "       [7, 8, 9]])"
      ]
     },
     "execution_count": 144,
     "metadata": {},
     "output_type": "execute_result"
    }
   ],
   "source": [
    "A = np.array([1,2,3,4,0,6,7,8,9]).reshape((3,-3))\n",
    "A"
   ]
  },
  {
   "cell_type": "code",
   "execution_count": 145,
   "metadata": {
    "hidden": true
   },
   "outputs": [],
   "source": [
    "def manual_det(m):\n",
    "    if m.shape == (1,1):\n",
    "        return m[0,0]\n",
    "    if m.shape ==(2, 2):\n",
    "        return m[0, 0] * m[1, 1] - m[0, 1] * m[1, 0]\n",
    "    ans, flag , temp_m = 0, 1, np.delete(m, 0, 0)\n",
    "    for i, j in enumerate(m[0]):\n",
    "        ans += j * (manual_det(np.delete(temp_m, i, 1))) * flag\n",
    "        flag *= -1\n",
    "    return ans"
   ]
  },
  {
   "cell_type": "code",
   "execution_count": 146,
   "metadata": {
    "hidden": true
   },
   "outputs": [
    {
     "name": "stdout",
     "output_type": "stream",
     "text": [
      "Manual Determinant(A) = 60\n",
      "Linalg Determinant(A) = 59.999999999999986\n"
     ]
    }
   ],
   "source": [
    "print(f\"Manual Determinant(A) = {manual_det(A)}\")\n",
    "print(f\"Linalg Determinant(A) = {np.linalg.det(A)}\")"
   ]
  },
  {
   "cell_type": "code",
   "execution_count": 147,
   "metadata": {
    "hidden": true
   },
   "outputs": [
    {
     "name": "stdout",
     "output_type": "stream",
     "text": [
      "Testing big matrix:\n",
      " [[ -4   1  -3  -1   0 -10  -5  -2]\n",
      " [ -3   3   9   1  -8  -8  -8   2]\n",
      " [  9   9  -3  -4   0  -3 -10  -4]\n",
      " [ -8   0  -6   4   2  -5  -1   9]\n",
      " [-10   9  -4  -7  -6  -3   7  -9]\n",
      " [ -9   8  -1   5   9   3   0   3]\n",
      " [ -3   2   0   2   8   2   4  -2]\n",
      " [  8   3  -6  -4  -6   8  -3  -1]] \n",
      "\n",
      "Manual Determinant(test) = 16991256\n",
      "Linalg Determinant(test) = 16991256.000000034\n"
     ]
    }
   ],
   "source": [
    "test = np.random.randint(-10, 10,(8, 8))\n",
    "print(\"Testing big matrix:\\n\",test,\"\\n\")\n",
    "print(f\"Manual Determinant(test) = {manual_det(test)}\")\n",
    "print(f\"Linalg Determinant(test) = {np.linalg.det(test)}\")"
   ]
  },
  {
   "cell_type": "markdown",
   "metadata": {
    "heading_collapsed": true
   },
   "source": [
    "##### 3. Вычислите матрицу, обратную данной:"
   ]
  },
  {
   "cell_type": "markdown",
   "metadata": {
    "hidden": true
   },
   "source": [
    "$\n",
    "\\begin{align}\n",
    "\\begin{vmatrix}\n",
    "1 & 2 & 3 \\\\\n",
    "4 & 0 & 6 \\\\\n",
    "7 & 8 & 9 \n",
    "\\end{vmatrix}\n",
    "\\end{align}\n",
    "$"
   ]
  },
  {
   "cell_type": "code",
   "execution_count": 148,
   "metadata": {
    "hidden": true
   },
   "outputs": [],
   "source": [
    "def manual_inv(m):\n",
    "    minors = m.copy()\n",
    "    flag = 1\n",
    "    for i in range (len(m)):\n",
    "        for j in range (len(m[0])):\n",
    "            temp_m = np.delete(np.delete(m, i, 0), j, 1)\n",
    "            minors[i,j] = manual_det(temp_m) * flag\n",
    "            flag *= -1\n",
    "    return minors.T/manual_det(m)\n",
    "        \n",
    "        "
   ]
  },
  {
   "cell_type": "code",
   "execution_count": 149,
   "metadata": {
    "hidden": true
   },
   "outputs": [
    {
     "name": "stdout",
     "output_type": "stream",
     "text": [
      "Manual inversion(A):\n",
      "[[-0.8         0.1         0.2       ]\n",
      " [ 0.1        -0.2         0.1       ]\n",
      " [ 0.53333333  0.1        -0.13333333]]\n",
      "\n",
      "Linalg inversion(A):\n",
      "[[-0.8         0.1         0.2       ]\n",
      " [ 0.1        -0.2         0.1       ]\n",
      " [ 0.53333333  0.1        -0.13333333]]\n",
      "\n"
     ]
    }
   ],
   "source": [
    "print(f\"Manual inversion(A):\\n{manual_inv(A)}\\n\")\n",
    "print(f\"Linalg inversion(A):\\n{np.linalg.inv(A)}\\n\")"
   ]
  },
  {
   "cell_type": "code",
   "execution_count": 150,
   "metadata": {
    "hidden": true,
    "scrolled": true
   },
   "outputs": [
    {
     "name": "stdout",
     "output_type": "stream",
     "text": [
      "Testing big matrix:\n",
      " [[2 3 2 4 9 6 4]\n",
      " [0 4 5 6 8 0 2]\n",
      " [6 6 6 0 6 1 7]\n",
      " [0 0 1 7 3 6 3]\n",
      " [0 4 1 4 0 9 2]\n",
      " [8 1 9 6 3 8 1]\n",
      " [3 4 7 3 7 3 7]] \n",
      "\n",
      "Manual inversion(test):\n",
      "[[ 0.02 -0.02  0.21  0.11 -0.07  0.06 -0.25]\n",
      " [-0.04  0.11  0.13 -0.05  0.13 -0.03 -0.15]\n",
      " [-0.06  0.01 -0.17 -0.14  0.03  0.05  0.25]\n",
      " [-0.1   0.1   0.11  0.2  -0.03  0.   -0.16]\n",
      " [ 0.15  0.01 -0.06 -0.08 -0.05  0.    0.02]\n",
      " [ 0.09 -0.07 -0.11 -0.09  0.07  0.02  0.09]\n",
      " [-0.07 -0.09  0.06  0.15 -0.04 -0.07  0.1 ]]\n",
      "\n",
      "Linalg inversion(test):\n",
      "[[ 0.02 -0.02  0.21  0.11 -0.07  0.06 -0.25]\n",
      " [-0.04  0.11  0.13 -0.05  0.13 -0.03 -0.15]\n",
      " [-0.06  0.01 -0.17 -0.14  0.03  0.05  0.25]\n",
      " [-0.1   0.1   0.11  0.2  -0.03  0.   -0.16]\n",
      " [ 0.15  0.01 -0.06 -0.08 -0.05  0.    0.02]\n",
      " [ 0.09 -0.07 -0.11 -0.09  0.07  0.02  0.09]\n",
      " [-0.07 -0.09  0.06  0.15 -0.04 -0.07  0.1 ]]\n",
      "\n"
     ]
    }
   ],
   "source": [
    "test = np.random.randint(0, 10,(7, 7))\n",
    "print(\"Testing big matrix:\\n\",test,\"\\n\")\n",
    "print(f\"Manual inversion(test):\\n{np.round(manual_inv(test),2)}\\n\")\n",
    "print(f\"Linalg inversion(test):\\n{np.round(np.linalg.inv(test),2)}\\n\")"
   ]
  },
  {
   "cell_type": "markdown",
   "metadata": {
    "heading_collapsed": true
   },
   "source": [
    "##### 4. Приведите пример матрицы 4х4, ранг которой равен 1."
   ]
  },
  {
   "cell_type": "code",
   "execution_count": 261,
   "metadata": {
    "hidden": true
   },
   "outputs": [],
   "source": [
    "def manual_rank(m):\n",
    "    for i in range(min(len(m), len(m[0])), 0, -1):\n",
    "        for row in range (len(m) - i +1):\n",
    "            for column in range (len(m[0]) - i +1):\n",
    "                if manual_det(m[row : row + i, column : column + i]) != 0:\n",
    "                    return i\n",
    "    return 0"
   ]
  },
  {
   "cell_type": "code",
   "execution_count": 262,
   "metadata": {
    "hidden": true
   },
   "outputs": [
    {
     "name": "stdout",
     "output_type": "stream",
     "text": [
      "All test done !\n"
     ]
    }
   ],
   "source": [
    "# testing \n",
    "for i in range (30):\n",
    "    test_m = np.random.randint(-10, 10,(np.random.randint(1,6), (np.random.randint(1,6))))\n",
    "    m_rank = manual_rank(test_m)\n",
    "    if m_rank != np.linalg.matrix_rank(test_m):\n",
    "        assert False\n",
    "print(\"All test done !\")                       "
   ]
  },
  {
   "cell_type": "code",
   "execution_count": 263,
   "metadata": {
    "hidden": true
   },
   "outputs": [],
   "source": [
    "A = np.array([[1,1,1],[1,1,1],[1,1,1] ])"
   ]
  },
  {
   "cell_type": "code",
   "execution_count": 264,
   "metadata": {
    "hidden": true
   },
   "outputs": [
    {
     "name": "stdout",
     "output_type": "stream",
     "text": [
      "Matrix with 1 rank:\n",
      " [[1 1 1]\n",
      " [1 1 1]\n",
      " [1 1 1]]\n"
     ]
    }
   ],
   "source": [
    "print(f\"Matrix with {manual_rank(A)} rank:\\n\", A )"
   ]
  },
  {
   "cell_type": "markdown",
   "metadata": {
    "heading_collapsed": true
   },
   "source": [
    "##### 5. Вычислите скалярное произведение двух векторов:  (1, 5)  и  (2, 8)"
   ]
  },
  {
   "cell_type": "code",
   "execution_count": 155,
   "metadata": {
    "hidden": true
   },
   "outputs": [],
   "source": [
    "v1 = np.array([1, 5])\n",
    "v2 = np.array([2, 8])"
   ]
  },
  {
   "cell_type": "code",
   "execution_count": 156,
   "metadata": {
    "hidden": true,
    "scrolled": true
   },
   "outputs": [
    {
     "data": {
      "text/plain": [
       "42"
      ]
     },
     "execution_count": 156,
     "metadata": {},
     "output_type": "execute_result"
    }
   ],
   "source": [
    "np.inner(v1, v2)"
   ]
  },
  {
   "cell_type": "markdown",
   "metadata": {
    "heading_collapsed": true
   },
   "source": [
    "##### 6. Вычислите смешанное произведение трех векторов: (1, 5, 0), (2, 8, 7) и (7, 1.5, 3) "
   ]
  },
  {
   "cell_type": "code",
   "execution_count": 157,
   "metadata": {
    "hidden": true
   },
   "outputs": [],
   "source": [
    "v1 = np.array([1, 5, 0])\n",
    "v2 = np.array([2, 8, 7])\n",
    "v3 = np.array([7, 1.5, 3])"
   ]
  },
  {
   "cell_type": "code",
   "execution_count": 182,
   "metadata": {
    "hidden": true
   },
   "outputs": [
    {
     "data": {
      "text/plain": [
       "228.5"
      ]
     },
     "execution_count": 182,
     "metadata": {},
     "output_type": "execute_result"
    }
   ],
   "source": [
    "np.inner(np.cross(v1,v2),v3)"
   ]
  },
  {
   "cell_type": "markdown",
   "metadata": {},
   "source": [
    "# Урок 6"
   ]
  },
  {
   "cell_type": "markdown",
   "metadata": {
    "heading_collapsed": true
   },
   "source": [
    "##### 1. Pешите линейную систему:\n"
   ]
  },
  {
   "cell_type": "markdown",
   "metadata": {
    "hidden": true
   },
   "source": [
    "$ \n",
    "\\begin{align}\n",
    "\\begin{bmatrix}\n",
    "1 & 2 & 3 \\\\\n",
    "4 & 0 & 6 \\\\\n",
    "7 & 8 & 9 \n",
    "\\end{bmatrix} \\cdot X =\n",
    "\\begin{bmatrix}\n",
    "12 \\\\\n",
    "2 \\\\\n",
    "1 \\\\\n",
    "\\end{bmatrix}\n",
    "\\end{align}\n",
    "$"
   ]
  },
  {
   "cell_type": "code",
   "execution_count": 159,
   "metadata": {
    "hidden": true
   },
   "outputs": [
    {
     "name": "stdout",
     "output_type": "stream",
     "text": [
      "Equations roots:\n",
      " [-9.2         0.9         6.46666667]\n"
     ]
    }
   ],
   "source": [
    "A = np.array([[1,2,3],[4,0,6],[7,8,9]])\n",
    "B = np.array([12,2,1])\n",
    "print(\"Equations roots:\\n\",np.linalg.solve(A,B))"
   ]
  },
  {
   "cell_type": "code",
   "execution_count": 160,
   "metadata": {
    "hidden": true
   },
   "outputs": [
    {
     "name": "stdout",
     "output_type": "stream",
     "text": [
      "[[-0.8         0.1         0.2       ]\n",
      " [ 0.1        -0.2         0.1       ]\n",
      " [ 0.53333333  0.1        -0.13333333]]\n"
     ]
    }
   ],
   "source": [
    "A1= np.linalg.inv(A)\n",
    "print(A1)"
   ]
  },
  {
   "cell_type": "code",
   "execution_count": 161,
   "metadata": {
    "hidden": true
   },
   "outputs": [
    {
     "name": "stdout",
     "output_type": "stream",
     "text": [
      "Determinant(A) = 59.999999999999986\n"
     ]
    }
   ],
   "source": [
    "print(f\"Determinant(A) = {np.linalg.det(A)}\")"
   ]
  },
  {
   "cell_type": "code",
   "execution_count": 162,
   "metadata": {
    "hidden": true
   },
   "outputs": [
    {
     "name": "stdout",
     "output_type": "stream",
     "text": [
      "Equations roots:\n",
      " [-9.2         0.9         6.46666667]\n"
     ]
    }
   ],
   "source": [
    "print(\"Equations roots:\\n\",np.dot(A1,B))"
   ]
  },
  {
   "cell_type": "markdown",
   "metadata": {
    "heading_collapsed": true
   },
   "source": [
    "##### 2. Найдите псевдорешение:"
   ]
  },
  {
   "cell_type": "markdown",
   "metadata": {
    "hidden": true
   },
   "source": [
    "$ \n",
    "\\begin{align*}\n",
    "x + 2y – z &= 1 \\\\\n",
    "3x - 4y &= 7 \\\\ \n",
    "8x - 5y + 2z &= 12 \\\\ \n",
    "2x - 5z &= 7 \\\\ \n",
    "11x + 4y – 7z &= 15 \\\\\n",
    "\\end{align*}\n",
    "$"
   ]
  },
  {
   "cell_type": "code",
   "execution_count": 163,
   "metadata": {
    "hidden": true,
    "scrolled": true
   },
   "outputs": [
    {
     "name": "stdout",
     "output_type": "stream",
     "text": [
      "Pseudo solution:\n",
      " [[0.50156212]\n",
      " [1.07281903]\n",
      " [0.88512377]]\n"
     ]
    }
   ],
   "source": [
    "A = np.array([[1, 2, 1],[3, 4, 0],[8, 5, 2],[2, 0, 5],[11, 4, 7]])\n",
    "B = np.array([1, 7, 12, 7, 15])\n",
    "print(\"Pseudo solution:\\n\", np.linalg.lstsq(A,B)[0].reshape(3,-1))"
   ]
  },
  {
   "cell_type": "markdown",
   "metadata": {
    "heading_collapsed": true
   },
   "source": [
    "##### 3. Сколько решений имеет линейная система? Если ноль – то измените вектор правой части так, чтобы система стала совместной, и решите ее:"
   ]
  },
  {
   "cell_type": "markdown",
   "metadata": {
    "hidden": true
   },
   "source": [
    "$ \n",
    "\\begin{align}\n",
    "\\begin{bmatrix}\n",
    "1 & 2 & 3 \\\\\n",
    "4 & 5 & 6 \\\\\n",
    "7 & 8 & 9 \n",
    "\\end{bmatrix} \\cdot X =\n",
    "\\begin{bmatrix}\n",
    "12 \\\\\n",
    "2 \\\\\n",
    "1 \\\\\n",
    "\\end{bmatrix}\n",
    "\\end{align}\n",
    "$"
   ]
  },
  {
   "cell_type": "code",
   "execution_count": 164,
   "metadata": {
    "hidden": true
   },
   "outputs": [],
   "source": [
    "A = np.array([[1,2,3],[4,5,6],[7,8,9]])\n",
    "B = np.array([[12,2,1]])\n",
    "C = np.concatenate((A,B.T),axis = 1) "
   ]
  },
  {
   "cell_type": "code",
   "execution_count": 165,
   "metadata": {
    "hidden": true,
    "scrolled": true
   },
   "outputs": [
    {
     "name": "stdout",
     "output_type": "stream",
     "text": [
      "Determinant(A)= 0.0 \n",
      "Rank(A)= 2            \n",
      "Rank(C)= 3\n"
     ]
    }
   ],
   "source": [
    "print(f\"Determinant(A)= {np.linalg.det(A)} \\nRank(A)= {np.linalg.matrix_rank(A)}\\\n",
    "            \\nRank(C)= {np.linalg.matrix_rank(C)}\")"
   ]
  },
  {
   "cell_type": "code",
   "execution_count": 166,
   "metadata": {
    "hidden": true
   },
   "outputs": [
    {
     "name": "stdout",
     "output_type": "stream",
     "text": [
      "Rank(A) < Rank(B) : System has no solutions.\n"
     ]
    }
   ],
   "source": [
    "print(\"Rank(A) < Rank(B) : System has no solutions.\")"
   ]
  },
  {
   "cell_type": "code",
   "execution_count": 167,
   "metadata": {
    "hidden": true
   },
   "outputs": [
    {
     "name": "stdout",
     "output_type": "stream",
     "text": [
      "Determinant(A)= 0.0 \n",
      "Rank(A)= 2            \n",
      "Rank(C)= 2\n"
     ]
    }
   ],
   "source": [
    "# измените вектор правой части так, чтобы система стала совместной, и решите ее\n",
    "A = np.array([[1,2,3],[4,5,6],[7,8,9]])\n",
    "B = np.array([[8,17,26]])\n",
    "C = np.concatenate((A,B.T),axis = 1) \n",
    "print(f\"Determinant(A)= {np.linalg.det(A)} \\nRank(A)= {np.linalg.matrix_rank(A)}\\\n",
    "            \\nRank(C)= {np.linalg.matrix_rank(C)}\")"
   ]
  },
  {
   "cell_type": "code",
   "execution_count": 168,
   "metadata": {
    "hidden": true
   },
   "outputs": [
    {
     "name": "stdout",
     "output_type": "stream",
     "text": [
      "Rank(A) = Rank(B) , but Rank(A) < len(A) : System has infinity number of solutions.\n"
     ]
    }
   ],
   "source": [
    "print(\"Rank(A) = Rank(B) , but Rank(A) < len(A) : System has infinity number of solutions.\")"
   ]
  },
  {
   "cell_type": "markdown",
   "metadata": {
    "heading_collapsed": true
   },
   "source": [
    "##### 4. Вычислите LU-разложение матрицы. После этого придумайте вектор правых частей и решите полученную линейную систему трех уравнений с данной матрицей:"
   ]
  },
  {
   "cell_type": "markdown",
   "metadata": {
    "hidden": true
   },
   "source": [
    "$\n",
    "\\begin{align}\n",
    "\\begin{bmatrix}\n",
    "1 & 2 & 3 \\\\\n",
    "2 & 16 & 21 \\\\\n",
    "4 & 28 & 73 \n",
    "\\end{bmatrix}\n",
    "\\end{align}\n",
    "$"
   ]
  },
  {
   "cell_type": "code",
   "execution_count": 169,
   "metadata": {
    "hidden": true
   },
   "outputs": [],
   "source": [
    "A = np.array([[1,2,3],[2,16,21],[4,28,73]])\n",
    "P,L,U = scipy.linalg.lu(A)"
   ]
  },
  {
   "cell_type": "code",
   "execution_count": 170,
   "metadata": {
    "hidden": true
   },
   "outputs": [
    {
     "name": "stdout",
     "output_type": "stream",
     "text": [
      "[[0. 1. 0.]\n",
      " [0. 0. 1.]\n",
      " [1. 0. 0.]]\n",
      "\n",
      "[[ 1.    0.    0.  ]\n",
      " [ 0.25  1.    0.  ]\n",
      " [ 0.5  -0.4   1.  ]]\n",
      "\n",
      "[[  4.    28.    73.  ]\n",
      " [  0.    -5.   -15.25]\n",
      " [  0.     0.   -21.6 ]]\n",
      "\n"
     ]
    }
   ],
   "source": [
    "for i in [P,L,U]:\n",
    "    print(i)\n",
    "    print()"
   ]
  },
  {
   "cell_type": "code",
   "execution_count": 171,
   "metadata": {
    "hidden": true
   },
   "outputs": [
    {
     "name": "stdout",
     "output_type": "stream",
     "text": [
      "Equations roots:\n",
      " [ 6.75925926  1.39814815 -0.85185185]\n"
     ]
    }
   ],
   "source": [
    "B = np.array([7, 18, 4])\n",
    "print(\"Equations roots:\\n\",np.linalg.solve(A,B))"
   ]
  },
  {
   "cell_type": "markdown",
   "metadata": {
    "heading_collapsed": true
   },
   "source": [
    "##### 5. Найдите нормальное псевдорешение недоопределенной системы. Для этого определите функцию Q(x,y,z), равную норме решения, и найдите ее минимум:"
   ]
  },
  {
   "cell_type": "markdown",
   "metadata": {
    "hidden": true
   },
   "source": [
    "$ \n",
    "\\begin{align*}\n",
    "x + 2y – z &= 1\\\\\n",
    "8x - 5y + 2z &= 12\\\\ \n",
    "\\end{align*}\n",
    "$"
   ]
  },
  {
   "cell_type": "code",
   "execution_count": 172,
   "metadata": {
    "hidden": true
   },
   "outputs": [],
   "source": [
    "def Q(x,y,z):\n",
    "    return x**2 + y**2 + z**2"
   ]
  },
  {
   "cell_type": "code",
   "execution_count": 190,
   "metadata": {
    "hidden": true
   },
   "outputs": [
    {
     "name": "stdout",
     "output_type": "stream",
     "text": [
      "Pseudo solution:\n",
      " [[ 1.38191882]\n",
      " [-0.18081181]\n",
      " [ 0.0202952 ]]\n"
     ]
    }
   ],
   "source": [
    "A = np.array([[1, 2,-1],[8, -5, 2]])\n",
    "B = np.array([1, 12])\n",
    "sol = np.linalg.lstsq(A,B)[0]\n",
    "print(\"Pseudo solution:\\n\", sol.reshape(3,-1))"
   ]
  },
  {
   "cell_type": "code",
   "execution_count": 183,
   "metadata": {
    "hidden": true
   },
   "outputs": [],
   "source": [
    "# x + 2y -z = 1\n",
    "# 8x - 5y + 2z = 12\n",
    "\n",
    "# z = -1 + 2y + x\n",
    "\n",
    "# 8x - 5y - 2 + 4y + 2x  = 12\n",
    "# 10x - y = 14\n",
    "\n",
    "# y = 10x - 14 ------ y formula\n",
    "# z = 21x - 29 ------ z formula"
   ]
  },
  {
   "cell_type": "code",
   "execution_count": 193,
   "metadata": {
    "hidden": true,
    "scrolled": false
   },
   "outputs": [
    {
     "data": {
      "image/png": "[encoded data removed]",
      "text/plain": [
       "<Figure size 432x288 with 1 Axes>"
      ]
     },
     "metadata": {
      "needs_background": "light"
     },
     "output_type": "display_data"
    }
   ],
   "source": [
    "x = np.linspace(0, 10, 201)\n",
    "y = 10*x - 14\n",
    "z = 21*x - 29\n",
    "plt.plot(x,Q(x, y, z), label = \"Q\")\n",
    "plt.scatter(sol[0],Q(sol[0], 10*sol[0] - 14, 21*sol[0] - 29), label = \"Solution\")\n",
    "plt.xlabel(\"X\")\n",
    "plt.ylabel(\"Q(X)\")\n",
    "plt.ylim(-100,500)\n",
    "plt.xlim(0,4)\n",
    "plt.legend()\n",
    "plt.grid();"
   ]
  },
  {
   "cell_type": "code",
   "execution_count": 197,
   "metadata": {
    "hidden": true
   },
   "outputs": [
    {
     "data": {
      "text/plain": [
       "array([[ 1.],\n",
       "       [12.]])"
      ]
     },
     "execution_count": 197,
     "metadata": {},
     "output_type": "execute_result"
    }
   ],
   "source": [
    "np.dot(A,sol).reshape(-1,1)"
   ]
  },
  {
   "cell_type": "markdown",
   "metadata": {
    "heading_collapsed": true
   },
   "source": [
    "##### 6. Найдите одно из псевдорешений вырожденной системы, Попробуйте также отыскать и нормальное псевдорешение.:"
   ]
  },
  {
   "cell_type": "markdown",
   "metadata": {
    "hidden": true
   },
   "source": [
    "$ \n",
    "\\begin{align}\n",
    "\\begin{bmatrix}\n",
    "1 & 2 & 3 \\\\\n",
    "4 & 5 & 6 \\\\\n",
    "7 & 8 & 9 \n",
    "\\end{bmatrix} \\cdot X =\n",
    "\\begin{bmatrix}\n",
    "2 \\\\\n",
    "5 \\\\\n",
    "11 \\\\\n",
    "\\end{bmatrix}\n",
    "\\end{align}\n",
    "$"
   ]
  },
  {
   "cell_type": "code",
   "execution_count": 246,
   "metadata": {
    "hidden": true
   },
   "outputs": [],
   "source": [
    "A = np.array([[1,2,3],[4,5,6],[7,8,9]])\n",
    "B = np.array([[2,5,11]])\n",
    "C = np.concatenate((A,B.T),axis = 1) "
   ]
  },
  {
   "cell_type": "code",
   "execution_count": 247,
   "metadata": {
    "hidden": true
   },
   "outputs": [
    {
     "name": "stdout",
     "output_type": "stream",
     "text": [
      "Determinant(A)= 0.0 \n",
      "Rank(A)= 2            \n",
      "Rank(C)= 3\n"
     ]
    }
   ],
   "source": [
    "print(f\"Determinant(A)= {np.linalg.det(A)} \\nRank(A)= {np.linalg.matrix_rank(A)}\\\n",
    "            \\nRank(C)= {np.linalg.matrix_rank(C)}\")"
   ]
  },
  {
   "cell_type": "code",
   "execution_count": 248,
   "metadata": {
    "hidden": true
   },
   "outputs": [
    {
     "name": "stdout",
     "output_type": "stream",
     "text": [
      "[[-0.12309149  0.90453403  0.40824829]\n",
      " [-0.49236596  0.30151134 -0.81649658]\n",
      " [-0.86164044 -0.30151134  0.40824829]]\n",
      "\n",
      "[[-8.12403840e+00 -9.60113630e+00 -1.10782342e+01]\n",
      " [ 0.00000000e+00  9.04534034e-01  1.80906807e+00]\n",
      " [ 0.00000000e+00  0.00000000e+00 -8.88178420e-16]]\n"
     ]
    }
   ],
   "source": [
    "Q, R = np.linalg.qr(A)\n",
    "print(Q)\n",
    "print()\n",
    "print(R)"
   ]
  },
  {
   "cell_type": "code",
   "execution_count": 249,
   "metadata": {
    "hidden": true
   },
   "outputs": [
    {
     "data": {
      "text/plain": [
       "array([[-1.21860576e+01],\n",
       "       [ 3.55271368e-15]])"
      ]
     },
     "execution_count": 249,
     "metadata": {},
     "output_type": "execute_result"
    }
   ],
   "source": [
    "R1 = R[:2, :2]\n",
    "B1 = np.dot(Q.T, B.reshape(-1,1))[:2]\n",
    "B1"
   ]
  },
  {
   "cell_type": "code",
   "execution_count": 250,
   "metadata": {
    "hidden": true
   },
   "outputs": [],
   "source": [
    "sol = np.append(np.linalg.solve(R1, B1),0)"
   ]
  },
  {
   "cell_type": "code",
   "execution_count": 251,
   "metadata": {
    "hidden": true
   },
   "outputs": [
    {
     "name": "stdout",
     "output_type": "stream",
     "text": [
      "Pseudo solution by QR :\n",
      " 1.499999999999996 1.224744871391589\n"
     ]
    }
   ],
   "source": [
    "print(\"Pseudo solution by QR :\\n\", np.linalg.norm(sol), np.linalg.norm(np.dot(A, sol) - B))"
   ]
  },
  {
   "cell_type": "code",
   "execution_count": 258,
   "metadata": {
    "hidden": true
   },
   "outputs": [],
   "source": [
    "sol1 = np.linalg.lstsq(A, B.reshape(-1,1))[0]\n"
   ]
  },
  {
   "cell_type": "code",
   "execution_count": 260,
   "metadata": {
    "hidden": true
   },
   "outputs": [
    {
     "name": "stdout",
     "output_type": "stream",
     "text": [
      "Pseudo solution by lstsq :\n",
      " 1.3693063937629126 1.2247448713915892\n"
     ]
    }
   ],
   "source": [
    "print(\"Pseudo solution by lstsq :\\n\", np.linalg.norm(sol1),np.linalg.norm(np.dot(A, sol1)-B.reshape(-1,1)))"
   ]
  }
 ],
 "metadata": {
  "kernelspec": {
   "display_name": "Python 3",
   "language": "python",
   "name": "python3"
  },
  "toc": {
   "base_numbering": 1,
   "nav_menu": {},
   "number_sections": true,
   "sideBar": true,
   "skip_h1_title": false,
   "title_cell": "Table of Contents",
   "title_sidebar": "Contents",
   "toc_cell": false,
   "toc_position": {},
   "toc_section_display": true,
   "toc_window_display": false
  }
 },
 "nbformat": 4,
 "nbformat_minor": 2
}
